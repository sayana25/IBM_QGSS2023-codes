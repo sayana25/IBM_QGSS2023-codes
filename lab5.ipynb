{
 "cells": [
  {
   "cell_type": "markdown",
   "metadata": {},
   "source": [
    "# Lab 5: Error mitigation with Qiskit Runtime\n",
    "\n",
    "In this lab, we'll explore a few of the error mitigation options available through Qiskit Runtime. Specifically, we'll define a simple observable and initial state and use the Estimator primitive to measure the expectation value. Using noisy simulations, we'll explore the effect of different error mitigation strategies."
   ]
  },
  {
   "cell_type": "code",
   "execution_count": 13,
   "metadata": {
    "tags": []
   },
   "outputs": [
    {
     "data": {
      "image/png": "[encoded data removed]",
      "text/plain": [
       "<Figure size 519.897x200.667 with 1 Axes>"
      ]
     },
     "execution_count": 13,
     "metadata": {},
     "output_type": "execute_result"
    }
   ],
   "source": [
    "from qiskit import ClassicalRegister, QuantumCircuit, QuantumRegister\n",
    "import numpy as np\n",
    "\n",
    "\n",
    "def step_1_circuit(qr: QuantumRegister, cr: ClassicalRegister) -> QuantumCircuit:\n",
    "    # qr is a quantum register with 2 qubits\n",
    "    # cr is a classical register with 2 bits\n",
    "\n",
    "    qc = QuantumCircuit(qr, cr)\n",
    "    qc.reset(0)\n",
    "    for i in range (d):\n",
    "        qc.x(0)\n",
    "    qc.measure(0,0)\n",
    "\n",
    "    ####### your code goes here #######\n",
    "\n",
    "    return qc\n",
    "\n",
    "d = 3\n",
    "qr = QuantumRegister(1, \"q\")\n",
    "cr = ClassicalRegister(1, \"c\")\n",
    "qc = QuantumCircuit(qr, cr)\n",
    "qc = step_1_circuit(qr, cr)\n",
    "qc.draw(\"mpl\")"
   ]
  },
  {
   "cell_type": "code",
   "execution_count": null,
   "metadata": {},
   "outputs": [],
   "source": [
    "from qiskit_aer import AerSimulator\n",
    "\n",
    "sim = AerSimulator()\n",
    "job = sim.run(qc, shots=1000)\n",
    "result = job.result()\n",
    "counts = result.get_counts()\n",
    "counts"
   ]
  },
  {
   "cell_type": "code",
   "execution_count": 28,
   "metadata": {
    "tags": []
   },
   "outputs": [],
   "source": [
    "from qiskit import ClassicalRegister, QuantumCircuit, QuantumRegister\n",
    "import numpy as np\n",
    "\n",
    "\n",
    "def step_1_circuit(qr: QuantumRegister, cr: ClassicalRegister) -> QuantumCircuit:\n",
    "    # qr is a quantum register with 2 qubits\n",
    "    # cr is a classical register with 2 bits\n",
    "\n",
    "    qc = QuantumCircuit(qr, cr)\n",
    "    qc.x(0)\n",
    "    for i in range (d):\n",
    "        qc.z(0)\n",
    "    qc.measure(0,0)\n",
    "\n",
    "    ####### your code goes here #######\n",
    "\n",
    "    return qc\n",
    "\n",
    "d = 100\n",
    "qr = QuantumRegister(1, \"q\")\n",
    "cr = ClassicalRegister(1, \"c\")\n",
    "qc = QuantumCircuit(qr, cr)\n",
    "qc = step_1_circuit(qr, cr)\n",
    "#qc.draw(\"mpl\")"
   ]
  },
  {
   "cell_type": "code",
   "execution_count": 17,
   "metadata": {
    "tags": []
   },
   "outputs": [
    {
     "data": {
      "text/plain": [
       "{'0': 1000}"
      ]
     },
     "execution_count": 17,
     "metadata": {},
     "output_type": "execute_result"
    }
   ],
   "source": [
    "from qiskit_aer import AerSimulator\n",
    "\n",
    "sim = AerSimulator()\n",
    "job = sim.run(qc, shots=1000)\n",
    "result = job.result()\n",
    "counts = result.get_counts()\n",
    "counts"
   ]
  },
  {
   "cell_type": "code",
   "execution_count": 30,
   "metadata": {
    "tags": []
   },
   "outputs": [
    {
     "name": "stdout",
     "output_type": "stream",
     "text": [
      "Traceback \u001b[1;36m(most recent call last)\u001b[0m:\n",
      "\u001b[0m  Cell \u001b[0;32mIn[30], line 9\u001b[0m\n",
      "    backend = provider.get_backend(backend_name, instance=f\"{hub}/{group}/{project}\")\u001b[0m\n",
      "\u001b[0m  File \u001b[0;32m/opt/conda/lib/python3.10/site-packages/qiskit_ibm_provider/ibm_provider.py:656\u001b[0m in \u001b[0;35mget_backend\u001b[0m\n",
      "    backends = self.backends(name, instance=instance, **kwargs)\u001b[0m\n",
      "\u001b[0m  File \u001b[0;32m/opt/conda/lib/python3.10/site-packages/qiskit_ibm_provider/ibm_provider.py:557\u001b[0m in \u001b[0;35mbackends\u001b[0m\n",
      "    return self._backend.backends(\u001b[0m\n",
      "\u001b[0m  File \u001b[0;32m/opt/conda/lib/python3.10/site-packages/qiskit_ibm_provider/ibm_backend_service.py:168\u001b[0m in \u001b[0;35mbackends\u001b[0m\n",
      "    self._backends[name] = self._create_backend_obj(\u001b[0m\n",
      "\u001b[1;36m  File \u001b[1;32m/opt/conda/lib/python3.10/site-packages/qiskit_ibm_provider/ibm_backend_service.py:709\u001b[1;36m in \u001b[1;35m_create_backend_obj\u001b[1;36m\n",
      "\u001b[1;33m    raise QiskitBackendNotFoundError(\u001b[1;36m\n",
      "\u001b[1;31mQiskitBackendNotFoundError\u001b[0m\u001b[1;31m:\u001b[0m 'Backend ibmq_manila is not in quantum-explorer/group-4/project-2: please try a different hub/group/project.'\n",
      "\n",
      "Use %tb to get the full traceback.\n"
     ]
    },
    {
     "data": {
      "text/html": [
       "\n",
       "<style>\n",
       ".button {\n",
       "  border: none;\n",
       "  color: white;\n",
       "  padding: 4px 8px;\n",
       "  text-align: center;\n",
       "  text-decoration: none;\n",
       "  display: inline-block;\n",
       "  font-size: 12px;\n",
       "  margin: 4px 2px;\n",
       "  transition-duration: 0.2s;\n",
       "  cursor: pointer;\n",
       "}\n",
       ".iqx-button {\n",
       "  background-color: #0f62fe; \n",
       "  color: white; \n",
       "}\n",
       ".iqx-button:hover {\n",
       "  background-color: #0043ce;\n",
       "  color: white;\n",
       "}\n",
       "</style>\n",
       "<a href=\"https://stackoverflow.com/search?q=QiskitBackendNotFoundError: Backend ibmq_manila is not in quantum-explorer/group-4/project-2: please try a different hub/group/project.\" target='_blank'><button class='button iqx-button'>Search for solution online</button></a>\n"
      ],
      "text/plain": [
       "<IPython.core.display.HTML object>"
      ]
     },
     "metadata": {},
     "output_type": "display_data"
    }
   ],
   "source": [
    "from qiskit_ibm_provider import IBMProvider\n",
    "\n",
    "provider = IBMProvider()\n",
    "hub = \"quantum-explorer\"\n",
    "group = \"group-4\"\n",
    "project = \"project-2\"\n",
    "\n",
    "backend_name = \"ibmq_manila\"\n",
    "backend = provider.get_backend(backend_name, instance=f\"{hub}/{group}/{project}\")"
   ]
  },
  {
   "cell_type": "markdown",
   "metadata": {},
   "source": [
    "## Setup\n",
    "\n",
    "We'll define a simple Heisenberg Hamiltonian model to use as an example. We'll also construct a simple state preparation circuit."
   ]
  },
  {
   "cell_type": "code",
   "execution_count": 14,
   "metadata": {
    "tags": []
   },
   "outputs": [],
   "source": [
    "from qiskit import QuantumCircuit, QuantumRegister\n",
    "from qiskit.quantum_info import SparsePauliOp\n",
    "\n",
    "\n",
    "def heisenberg_hamiltonian(\n",
    "    length: int, jx: float = 1.0, jy: float = 0.0, jz: float = 0.0\n",
    ") -> SparsePauliOp:\n",
    "    terms = []\n",
    "    for i in range(length - 1):\n",
    "        if jx:\n",
    "            terms.append((\"XX\", [i, i + 1], jx))\n",
    "        if jy:\n",
    "            terms.append((\"YY\", [i, i + 1], jy))\n",
    "        if jz:\n",
    "            terms.append((\"ZZ\", [i, i + 1], jz))\n",
    "    return SparsePauliOp.from_sparse_list(terms, num_qubits=length)\n",
    "\n",
    "\n",
    "def state_prep_circuit(num_qubits: int, layers: int = 1) -> QuantumCircuit:\n",
    "    qubits = QuantumRegister(num_qubits, name=\"q\")\n",
    "    circuit = QuantumCircuit(qubits)\n",
    "    circuit.h(qubits)\n",
    "    for _ in range(layers):\n",
    "        for i in range(0, num_qubits - 1, 2):\n",
    "            circuit.cx(qubits[i], qubits[i + 1])\n",
    "        circuit.ry(0.1, qubits)\n",
    "        for i in range(1, num_qubits - 1, 2):\n",
    "            circuit.cx(qubits[i], qubits[i + 1])\n",
    "        circuit.ry(0.1, qubits)\n",
    "    return circuit"
   ]
  },
  {
   "cell_type": "code",
   "execution_count": 15,
   "metadata": {
    "tags": []
   },
   "outputs": [
    {
     "name": "stdout",
     "output_type": "stream",
     "text": [
      "SparsePauliOp(['IIIXX', 'IIIYY', 'IIXXI', 'IIYYI', 'IXXII', 'IYYII', 'XXIII', 'YYIII'],\n",
      "              coeffs=[1.+0.j, 1.+0.j, 1.+0.j, 1.+0.j, 1.+0.j, 1.+0.j, 1.+0.j, 1.+0.j])\n"
     ]
    },
    {
     "data": {
      "image/png": "[encoded data removed]",
      "text/plain": [
       "<Figure size 872.774x451.5 with 1 Axes>"
      ]
     },
     "execution_count": 15,
     "metadata": {},
     "output_type": "execute_result"
    }
   ],
   "source": [
    "length = 5\n",
    "\n",
    "hamiltonian = heisenberg_hamiltonian(length, 1.0, 1.0)\n",
    "circuit = state_prep_circuit(length, layers=2)\n",
    "\n",
    "print(hamiltonian)\n",
    "circuit.draw(\"mpl\")"
   ]
  },
  {
   "cell_type": "markdown",
   "metadata": {},
   "source": [
    "## Calculate exact expectation value (energy)\n",
    "\n",
    "First, we'll calculate the exact expectation value using a local simulator implementation of the Estimator primitive. The expectation value of a Hamiltonian is also referred to as \"energy.\""
   ]
  },
  {
   "cell_type": "code",
   "execution_count": 16,
   "metadata": {
    "tags": []
   },
   "outputs": [
    {
     "name": "stdout",
     "output_type": "stream",
     "text": [
      "Exact energy: 4.290938711029713\n"
     ]
    }
   ],
   "source": [
    "from qiskit_aer.primitives import Estimator\n",
    "\n",
    "estimator = Estimator(approximation=True)\n",
    "job = estimator.run(circuit, hamiltonian, shots=None)\n",
    "result = job.result()\n",
    "exact_value = result.values[0]\n",
    "\n",
    "print(f\"Exact energy: {exact_value}\")"
   ]
  },
  {
   "cell_type": "markdown",
   "metadata": {},
   "source": [
    "## Run noisy simulation through Qiskit Runtime\n",
    "\n",
    "Next, we'll initialize the Qiskit Runtime service and switch to using its Estimator primitive, backed by a simulator that can handle noise. Even though our circuit acts on 5 qubits, we'll initialize a simulator with 6 qubits in order to later demonstrate the potential effects of qubit choice."
   ]
  },
  {
   "cell_type": "code",
   "execution_count": 22,
   "metadata": {
    "tags": []
   },
   "outputs": [],
   "source": [
    "from qiskit_ibm_runtime import QiskitRuntimeService\n",
    "\n",
    "hub = \"summer-school-2\"\n",
    "group = \"group-9\"\n",
    "project = \"8100574839\"\n",
    "service = QiskitRuntimeService(instance=f\"{hub}/{group}/{project}\")"
   ]
  },
  {
   "cell_type": "code",
   "execution_count": 23,
   "metadata": {
    "tags": []
   },
   "outputs": [],
   "source": [
    "from qiskit_ibm_runtime import Estimator, Options, Session\n",
    "from qiskit.transpiler import CouplingMap\n",
    "\n",
    "backend = service.get_backend(\"simulator_statevector\")\n",
    "# set simulation options\n",
    "simulator = {\n",
    "    \"basis_gates\": [\"id\", \"rz\", \"sx\", \"cx\", \"reset\"],\n",
    "    \"coupling_map\": list(CouplingMap.from_line(length + 1)),\n",
    "}\n",
    "shots = 10000"
   ]
  },
  {
   "cell_type": "markdown",
   "metadata": {},
   "source": [
    "### No noise"
   ]
  },
  {
   "cell_type": "markdown",
   "metadata": {},
   "source": [
    "First, we'll run the simulation with no noise."
   ]
  },
  {
   "cell_type": "code",
   "execution_count": 24,
   "metadata": {
    "tags": []
   },
   "outputs": [
    {
     "name": "stdout",
     "output_type": "stream",
     "text": [
      "Estimated energy: 4.3144\n",
      "Energy error: 0.023461288970286986\n",
      "Variance: 4.443663519999999\n",
      "Standard error: 0.021079998861480043\n"
     ]
    }
   ],
   "source": [
    "import math\n",
    "\n",
    "options = Options(\n",
    "    simulator=simulator,\n",
    "    resilience_level=0,\n",
    ")\n",
    "\n",
    "with Session(service=service, backend=backend):\n",
    "    estimator = Estimator(options=options)\n",
    "    job = estimator.run(circuit, hamiltonian, shots=shots)\n",
    "\n",
    "result = job.result()\n",
    "experiment_value = result.values[0]\n",
    "error = abs(experiment_value - exact_value)\n",
    "variance = result.metadata[0][\"variance\"]\n",
    "std = math.sqrt(variance / shots)\n",
    "\n",
    "print(f\"Estimated energy: {experiment_value}\")\n",
    "print(f\"Energy error: {error}\")\n",
    "print(f\"Variance: {variance}\")\n",
    "print(f\"Standard error: {std}\")"
   ]
  },
  {
   "cell_type": "code",
   "execution_count": 3,
   "metadata": {
    "tags": []
   },
   "outputs": [
    {
     "data": {
      "image/png": "[encoded data removed]",
      "text/plain": [
       "<Figure size 700x500 with 1 Axes>"
      ]
     },
     "execution_count": 3,
     "metadata": {},
     "output_type": "execute_result"
    }
   ],
   "source": [
    "from qiskit import QuantumCircuit, transpile, Aer\n",
    "from qiskit.visualization import plot_histogram\n",
    "from qiskit_aer import AerSimulator\n",
    "import qiskit_aer.noise as noise\n",
    "from qiskit_aer.noise import NoiseModel\n",
    "from qiskit.providers.fake_provider import FakeVigo\n",
    "\n",
    "\n",
    "# Build noise model from backend properties\n",
    "backend = FakeVigo()\n",
    "noise_model = NoiseModel.from_backend(backend)\n",
    "\n",
    "# Get coupling map from backend\n",
    "coupling_map = backend.configuration().coupling_map\n",
    "\n",
    "# Error probabilities\n",
    "prob_1 = 0.001  # 1-qubit gate\n",
    "prob_2 = 0.01   # 2-qubit gate\n",
    "\n",
    "# Depolarizing quantum errors\n",
    "error_1 = noise.depolarizing_error(prob_1, 1)\n",
    "error_2 = noise.depolarizing_error(prob_2, 2)\n",
    "\n",
    "# Add errors to noise model\n",
    "noise_model = noise.NoiseModel()\n",
    "noise_model.add_all_qubit_quantum_error(error_1, ['u1', 'u2', 'u3'])\n",
    "noise_model.add_all_qubit_quantum_error(error_2, ['cx'])\n",
    "\n",
    "# Get basis gates from noise model\n",
    "basis_gates = noise_model.basis_gates\n",
    "\n",
    "# Make a circuit\n",
    "circ = QuantumCircuit(3, 3)\n",
    "circ.h(0)\n",
    "circ.cx(0, 1)\n",
    "circ.cx(1, 2)\n",
    "circ.measure([0, 1, 2], [0, 1, 2])\n",
    "\n",
    "# Perform a noise simulation\n",
    "backend = AerSimulator(noise_model=noise_model,coupling_map=coupling_map,basis_gates=basis_gates)\n",
    "transpiled_circuit = transpile(circ, backend)\n",
    "result = backend.run(transpiled_circuit).result()\n",
    "\n",
    "counts = result.get_counts(0)\n",
    "plot_histogram(counts)"
   ]
  },
  {
   "cell_type": "markdown",
   "metadata": {},
   "source": [
    "### Readout error\n",
    "\n",
    "Next, let's run a simulation with readout error."
   ]
  },
  {
   "cell_type": "markdown",
   "metadata": {},
   "source": [
    "#### Exercise 1\n",
    "\n",
    "In this exercise, you'll construct a noise model that has modest readout error on all qubits except for the first qubit, which will have really bad readout error.\n",
    "\n",
    "Specifically, construct a noise model with the following properties:\n",
    "- For the first qubit (qubit 0):\n",
    "  - A readout of 1 has a 50% probability of being erroneously read as 0.\n",
    "  - A readout of 0 has a 20% probability of being erroneously read as 1.\n",
    "- For the rest of the qubits:\n",
    "  - A readout of 1 has a 5% probability of being erroneously read as 0.\n",
    "  - A readout of 0 has a 2% probability of being erroneously read as 1.\n",
    "\n",
    "You may find it helpful to consult the following resources:\n",
    "  - https://qiskit.org/ecosystem/aer/apidocs/aer_noise.html\n",
    "  - https://qiskit.org/ecosystem/aer/tutorials/3_building_noise_models.html\n",
    "  "
   ]
  },
  {
   "cell_type": "code",
   "execution_count": 6,
   "metadata": {
    "tags": []
   },
   "outputs": [
    {
     "data": {
      "text/plain": [
       "ReadoutError([[0.8 0.2]\n",
       " [0.5 0.5]])"
      ]
     },
     "execution_count": 6,
     "metadata": {},
     "output_type": "execute_result"
    }
   ],
   "source": [
    "#for first qubit 0\n",
    "from qiskit_aer.noise import (NoiseModel, QuantumError, ReadoutError,\n",
    "    pauli_error, depolarizing_error, thermal_relaxation_error)\n",
    "\n",
    "p0given1 = 0.5\n",
    "p1given0 = 0.2\n",
    "\n",
    "ReadoutError([[1 - p1given0, p1given0], [p0given1, 1 - p0given1]])"
   ]
  },
  {
   "cell_type": "code",
   "execution_count": 7,
   "metadata": {
    "tags": []
   },
   "outputs": [
    {
     "data": {
      "text/plain": [
       "ReadoutError([[0.98 0.02]\n",
       " [0.05 0.95]])"
      ]
     },
     "execution_count": 7,
     "metadata": {},
     "output_type": "execute_result"
    }
   ],
   "source": [
    "#for other qubits\n",
    "from qiskit_aer.noise import (NoiseModel, QuantumError, ReadoutError,\n",
    "    pauli_error, depolarizing_error, thermal_relaxation_error)\n",
    "\n",
    "p0given1 = 0.05\n",
    "p1given0 = 0.02\n",
    "\n",
    "ReadoutError([[1 - p1given0, p1given0], [p0given1, 1 - p0given1]])"
   ]
  },
  {
   "cell_type": "code",
   "execution_count": 11,
   "metadata": {},
   "outputs": [
    {
     "name": "stdout",
     "output_type": "stream",
     "text": [
      "NoiseModel:\n",
      "  Basis gates: ['cx', 'id', 'rz', 'sx']\n",
      "  Instructions with noise: ['measure']\n",
      "  Qubits with noise: [0, 1, 2, 3, 4, 5]\n",
      "  Specific qubit errors: [('measure', (0,)), ('measure', (1,)), ('measure', (2,)), ('measure', (3,)), ('measure', (4,)), ('measure', (5,))]\n"
     ]
    }
   ],
   "source": [
    "from qiskit_aer.noise import NoiseModel, ReadoutError\n",
    "\n",
    "# Error probabilities\n",
    "#prob_1 = 0.001  # 1-qubit gate\n",
    "#prob_2 = 0.01   # 2-qubit gate\n",
    "\n",
    "# Depolarizing quantum errors\n",
    "\n",
    "\n",
    "# Add errors to noise model\n",
    "#noise_model = noise.NoiseModel()\n",
    "#noise_model.add_all_qubit_quantum_error(error_1, ['u1', 'u2', 'u3'])\n",
    "#noise_model.add_all_qubit_quantum_error(error_2, ['cx'])\n",
    "\n",
    "#error_1 = noise.ReadoutError(prob_1, 1)\n",
    "#error_2 = noise.ReadoutError(prob_2, 2)\n",
    "\n",
    "noise_model = NoiseModel() #create empty noise model\n",
    "# Add depolarizing error to all single qubit u1, u2, u3 gates\n",
    "noise_model.add_readout_error(ReadoutError([[0.8, 0.2],[0.5, 0.5]]),[0])\n",
    "for i in range(5):\n",
    "    noise_model.add_readout_error(ReadoutError([[0.98, 0.02],[0.05, 0.95]]),[i+1])\n",
    "\n",
    "##### your code here #####\n",
    "\n",
    "print(noise_model)"
   ]
  },
  {
   "cell_type": "code",
   "execution_count": 12,
   "metadata": {},
   "outputs": [
    {
     "name": "stdout",
     "output_type": "stream",
     "text": [
      "Submitting your answer. Please wait...\n",
      "Congratulations 🎉! Your answer is correct and has been submitted.\n"
     ]
    }
   ],
   "source": [
    "# Submit your answer\n",
    "\n",
    "from qc_grader.challenges.qgss_2023 import grade_lab5_ex1\n",
    "\n",
    "grade_lab5_ex1(noise_model)"
   ]
  },
  {
   "cell_type": "markdown",
   "metadata": {},
   "source": [
    "First, let's try running the simulation without doing anything to mitigate the readout error. We'll explicitly set `resilience_level = 0` to ensure that no error mitigation is applied by the Runtime service. To illustrate the effect of a poor choice of qubits, we'll explicitly specify an initial layout that includes qubit 0."
   ]
  },
  {
   "cell_type": "code",
   "execution_count": 25,
   "metadata": {},
   "outputs": [
    {
     "name": "stdout",
     "output_type": "stream",
     "text": [
      "Estimated energy: 3.5793999999999997\n",
      "Energy error: 0.7115387110297133\n",
      "Variance: 5.35425548\n",
      "Standard error: 0.02313926420610647\n"
     ]
    }
   ],
   "source": [
    "options = Options(\n",
    "    simulator=dict(noise_model=noise_model, **simulator),\n",
    "    resilience_level=0,\n",
    "    transpilation=dict(initial_layout=list(range(length))),\n",
    ")\n",
    "\n",
    "with Session(service=service, backend=backend):\n",
    "    estimator = Estimator(options=options)\n",
    "    job = estimator.run(circuit, hamiltonian, shots=shots)\n",
    "\n",
    "result = job.result()\n",
    "experiment_value = result.values[0]\n",
    "error = abs(experiment_value - exact_value)\n",
    "variance = result.metadata[0][\"variance\"]\n",
    "std = math.sqrt(variance / shots)\n",
    "\n",
    "print(f\"Estimated energy: {experiment_value}\")\n",
    "print(f\"Energy error: {error}\")\n",
    "print(f\"Variance: {variance}\")\n",
    "print(f\"Standard error: {std}\")"
   ]
  },
  {
   "cell_type": "markdown",
   "metadata": {},
   "source": [
    "The error we get is pretty large. To improve things, let's pick a qubit layout that avoids qubit 0."
   ]
  },
  {
   "cell_type": "code",
   "execution_count": 26,
   "metadata": {},
   "outputs": [
    {
     "name": "stdout",
     "output_type": "stream",
     "text": [
      "Estimated energy: 3.9084000000000003\n",
      "Energy error: 0.3825387110297127\n",
      "Variance: 5.01531904\n",
      "Standard error: 0.02239490799266655\n"
     ]
    }
   ],
   "source": [
    "options = Options(\n",
    "    simulator=dict(noise_model=noise_model, **simulator),\n",
    "    resilience_level=0,\n",
    "    transpilation=dict(initial_layout=list(range(1, length + 1))),\n",
    ")\n",
    "\n",
    "with Session(service=service, backend=backend):\n",
    "    estimator = Estimator(options=options)\n",
    "    job = estimator.run(circuit, hamiltonian, shots=shots)\n",
    "\n",
    "result = job.result()\n",
    "experiment_value = result.values[0]\n",
    "error = abs(experiment_value - exact_value)\n",
    "variance = result.metadata[0][\"variance\"]\n",
    "std = math.sqrt(variance / shots)\n",
    "\n",
    "print(f\"Estimated energy: {experiment_value}\")\n",
    "print(f\"Energy error: {error}\")\n",
    "print(f\"Variance: {variance}\")\n",
    "print(f\"Standard error: {std}\")"
   ]
  },
  {
   "cell_type": "markdown",
   "metadata": {},
   "source": [
    "The error is smaller now, but still significant. Let's now enable readout error mitigation by setting `resilience_level = 1`."
   ]
  },
  {
   "cell_type": "code",
   "execution_count": 27,
   "metadata": {},
   "outputs": [
    {
     "name": "stdout",
     "output_type": "stream",
     "text": [
      "Estimated energy: 4.251123274555114\n",
      "Energy error: 0.03981543647459862\n",
      "Variance: 7.035043370026496\n",
      "Standard error: 0.026523656177130813\n"
     ]
    }
   ],
   "source": [
    "options = Options(\n",
    "    simulator=dict(noise_model=noise_model, **simulator),\n",
    "    resilience_level=1,\n",
    "    transpilation=dict(initial_layout=list(range(1, length + 1))),\n",
    ")\n",
    "\n",
    "with Session(service=service, backend=backend):\n",
    "    estimator = Estimator(options=options)\n",
    "    job = estimator.run(circuit, hamiltonian, shots=shots)\n",
    "\n",
    "result = job.result()\n",
    "experiment_value = result.values[0]\n",
    "error = abs(experiment_value - exact_value)\n",
    "variance = result.metadata[0][\"variance\"]\n",
    "std = math.sqrt(variance / shots)\n",
    "\n",
    "print(f\"Estimated energy: {experiment_value}\")\n",
    "print(f\"Energy error: {error}\")\n",
    "print(f\"Variance: {variance}\")\n",
    "print(f\"Standard error: {std}\")"
   ]
  },
  {
   "cell_type": "markdown",
   "metadata": {},
   "source": [
    "Now, the effect of readout error has been almost completely mitigated! This mitigation did not come for free. In particular,\n",
    "- To perform readout error mitigation, the Runtime service has to run additional calibration circuits, so the overall running time may be longer.\n",
    "- The variance of the estimator has increased, leading to a larger standard error of the mean. As a consequence, a larger number of shots needs to be specified in order to achieve a given standard error.\n",
    "\n",
    "Typically, these costs are relatively small, so it is almost always worthwhile to enable readout error mitigation."
   ]
  },
  {
   "cell_type": "markdown",
   "metadata": {},
   "source": [
    "#### Exercise 2\n",
    "\n",
    "Suppose that turning on readout error mitigation increases the variance of your estimator by a factor of 2. If you originally ran your experiment with 10,000 shots, how many shots should you now use to achieve the same standard error of the mean?"
   ]
  },
  {
   "cell_type": "code",
   "execution_count": 32,
   "metadata": {},
   "outputs": [],
   "source": [
    "new_shots = 20000\n",
    "\n",
    "##### your code here #####\n"
   ]
  },
  {
   "cell_type": "code",
   "execution_count": 33,
   "metadata": {},
   "outputs": [
    {
     "name": "stdout",
     "output_type": "stream",
     "text": [
      "Submitting your answer. Please wait...\n",
      "Congratulations 🎉! Your answer is correct and has been submitted.\n"
     ]
    }
   ],
   "source": [
    "# Submit your answer\n",
    "\n",
    "from qc_grader.challenges.qgss_2023 import grade_lab5_ex2\n",
    "\n",
    "grade_lab5_ex2(new_shots)"
   ]
  },
  {
   "cell_type": "markdown",
   "metadata": {},
   "source": [
    "### Depolarizing error and zero-noise extrapolation\n",
    "\n",
    "In this section, we will see how depolarizing error can be mitigated using zero-noise extrapolation. Because the zero-noise extrapolation feature of Qiskit Runtime is still in beta, it currently has a few limitations. In particular, as of the time of this writing, the zero-noise extrapolation feature does not mitigate readout error. Therefore, in the examples below, we will remove readout error from our noise model."
   ]
  },
  {
   "cell_type": "markdown",
   "metadata": {},
   "source": [
    "#### Exercise 3\n",
    "\n",
    "Construct a noise model that adds two-qubit depolarizing error after each CNOT gate, such that the error channel maps the input quantum state to the completely mixed state with 1% probability."
   ]
  },
  {
   "cell_type": "code",
   "execution_count": null,
   "metadata": {},
   "outputs": [
    {
     "name": "stdout",
     "output_type": "stream",
     "text": [
      "NoiseModel:\n",
      "  Basis gates: ['cx', 'id', 'rz', 'sx', 'u1', 'u2', 'u3']\n",
      "  Instructions with noise: ['u3', 'u2', 'u1']\n",
      "  Qubits with noise: [1, 2, 3, 4, 5]\n",
      "  Specific qubit errors: [('u1', (1,)), ('u1', (2,)), ('u1', (3,)), ('u1', (4,)), ('u1', (5,)), ('u2', (1,)), ('u2', (2,)), ('u2', (3,)), ('u2', (4,)), ('u2', (5,)), ('u3', (1,)), ('u3', (2,)), ('u3', (3,)), ('u3', (4,)), ('u3', (5,))]\n"
     ]
    }
   ],
   "source": [
    "# Create an empty noise model\n",
    "noise_model = NoiseModel()\n",
    "\n",
    "# Add depolarizing error to all single qubit u1, u2, u3 gates on qubit 0 only\n",
    "error = depolarizing_error(0.05, 1)\n",
    "noise_model.add_quantum_error(error, ['u1', 'u2', 'u3'], [0])\n",
    "\n",
    "# Print noise model info\n",
    "print(noise_model)"
   ]
  },
  {
   "cell_type": "code",
   "execution_count": 44,
   "metadata": {},
   "outputs": [
    {
     "name": "stdout",
     "output_type": "stream",
     "text": [
      "NoiseModel:\n",
      "  Basis gates: ['cx', 'id', 'rz', 'sx']\n",
      "  Instructions with noise: ['cx']\n",
      "  All-qubits errors: ['cx']\n"
     ]
    }
   ],
   "source": [
    "from qiskit_aer.noise import depolarizing_error\n",
    "\n",
    "# Error probabilities\n",
    "#prob_1 = 0.01  # 1-qubit gate\n",
    "prob_2 = 0.01   # 2-qubit gate\n",
    "\n",
    "# Depolarizing quantum errors\n",
    "#error_1 = noise.depolarizing_error(prob_1, 1)\n",
    "error_2 = noise.depolarizing_error(prob_2, 2)\n",
    "\n",
    "noise_model = NoiseModel()\n",
    "#noise_model.add_all_qubit_quantum_error(error_1, ['u1', 'u2', 'u3'])\n",
    "noise_model.add_all_qubit_quantum_error(error_2, ['cx'])\n",
    "\n",
    "##### your code here #####\n",
    "\n",
    "print(noise_model)"
   ]
  },
  {
   "cell_type": "code",
   "execution_count": 45,
   "metadata": {},
   "outputs": [
    {
     "name": "stdout",
     "output_type": "stream",
     "text": [
      "Submitting your answer. Please wait...\n",
      "Congratulations 🎉! Your answer is correct and has been submitted.\n"
     ]
    }
   ],
   "source": [
    "# Submit your answer\n",
    "\n",
    "from qc_grader.challenges.qgss_2023 import grade_lab5_ex3\n",
    "\n",
    "grade_lab5_ex3(noise_model)"
   ]
  },
  {
   "cell_type": "markdown",
   "metadata": {},
   "source": [
    "Let's run the estimator with `resilience_level = 1`, which turns on readout error mitigation. Because our noise model doesn't include readout error mitigation, we don't expect this to help."
   ]
  },
  {
   "cell_type": "code",
   "execution_count": 46,
   "metadata": {},
   "outputs": [
    {
     "name": "stdout",
     "output_type": "stream",
     "text": [
      "Estimated energy: 4.066\n",
      "Energy error: 0.2249387110297132\n",
      "Variance: 4.8139288\n",
      "Standard error: 0.021940667264237886\n"
     ]
    }
   ],
   "source": [
    "options = Options(\n",
    "    simulator=dict(noise_model=noise_model, **simulator),\n",
    "    resilience_level=1,\n",
    ")\n",
    "\n",
    "with Session(service=service, backend=backend):\n",
    "    estimator = Estimator(options=options)\n",
    "    job = estimator.run(circuit, hamiltonian, shots=shots)\n",
    "\n",
    "result = job.result()\n",
    "experiment_value = result.values[0]\n",
    "error = abs(experiment_value - exact_value)\n",
    "variance = result.metadata[0][\"variance\"]\n",
    "std = math.sqrt(variance / shots)\n",
    "\n",
    "print(f\"Estimated energy: {experiment_value}\")\n",
    "print(f\"Energy error: {error}\")\n",
    "print(f\"Variance: {variance}\")\n",
    "print(f\"Standard error: {std}\")"
   ]
  },
  {
   "cell_type": "markdown",
   "metadata": {},
   "source": [
    "As expected, the error we get is pretty significant.\n",
    "\n",
    "Now, let's turn on zero-noise extrapolation by setting `resilience_level = 2`."
   ]
  },
  {
   "cell_type": "code",
   "execution_count": 47,
   "metadata": {},
   "outputs": [
    {
     "name": "stdout",
     "output_type": "stream",
     "text": [
      "Estimated energy: 4.215816666666669\n",
      "Energy error: 0.07512204436304426\n",
      "Variances: [4.84024324, 5.43555636, 5.89646712]\n"
     ]
    }
   ],
   "source": [
    "options = Options(\n",
    "    simulator=dict(noise_model=noise_model, **simulator),\n",
    "    resilience_level=2,\n",
    ")\n",
    "\n",
    "with Session(service=service, backend=backend):\n",
    "    estimator = Estimator(options=options)\n",
    "    job = estimator.run(circuit, hamiltonian, shots=shots)\n",
    "\n",
    "result = job.result()\n",
    "experiment_value = result.values[0]\n",
    "error = abs(experiment_value - exact_value)\n",
    "variances = result.metadata[0][\"zne\"][\"noise_amplification\"][\"variance\"]\n",
    "\n",
    "print(f\"Estimated energy: {experiment_value}\")\n",
    "print(f\"Energy error: {error}\")\n",
    "print(f\"Variances: {variances}\")"
   ]
  },
  {
   "cell_type": "markdown",
   "metadata": {},
   "source": [
    "Now, the effect of depolarizing noise has been almost completely mitigated! Note that instead of getting a single variance value for the estimator, we are now returned a list of variances, one for each data point measured for the extrapolation. In a future version of Qiskit Runtime, these variances will also be extrapolated to return a single variance for the final estimator."
   ]
  },
  {
   "cell_type": "markdown",
   "metadata": {},
   "source": [
    "#### Exercise 4 (ungraded)\n",
    "\n",
    "Besides depolarizing error, what other kinds of noise can be mitigated by zero-noise extrapolation? Test your proposals by constructing other noise models, and then simulating them with and without zero-noise extrapolation."
   ]
  },
  {
   "cell_type": "code",
   "execution_count": null,
   "metadata": {},
   "outputs": [],
   "source": []
  }
 ],
 "metadata": {
  "kernelspec": {
   "display_name": "Python 3 (ipykernel)",
   "language": "python",
   "name": "python3"
  },
  "language_info": {
   "codemirror_mode": {
    "name": "ipython",
    "version": 3
   },
   "file_extension": ".py",
   "mimetype": "text/x-python",
   "name": "python",
   "nbconvert_exporter": "python",
   "pygments_lexer": "ipython3",
   "version": "3.10.8"
  },
  "widgets": {
   "application/vnd.jupyter.widget-state+json": {
    "state": {},
    "version_major": 2,
    "version_minor": 0
   }
  }
 },
 "nbformat": 4,
 "nbformat_minor": 4
}
